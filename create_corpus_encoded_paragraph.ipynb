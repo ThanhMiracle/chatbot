{
 "cells": [
  {
   "cell_type": "code",
   "execution_count": 1,
   "id": "3a504033-9a25-4d6d-a467-36a6a6cb3af4",
   "metadata": {},
   "outputs": [],
   "source": [
    "import json\n",
    "import re\n",
    "import nltk\n",
    "from nltk.tokenize import word_tokenize\n",
    "import string\n"
   ]
  },
  {
   "cell_type": "code",
   "execution_count": 2,
   "id": "b357574f-5ba6-44bd-8af7-93eeb7d7dd2c",
   "metadata": {},
   "outputs": [],
   "source": [
    "with open('clean_data/gathered_graph.json', 'r', encoding='utf-8') as json_file:\n",
    "    data = json.load(json_file)\n"
   ]
  },
  {
   "cell_type": "code",
   "execution_count": 3,
   "id": "d7641c8e-ea5b-443c-bd3b-f6e4e6d49ee2",
   "metadata": {},
   "outputs": [],
   "source": [
    "words = data.split()"
   ]
  },
  {
   "cell_type": "code",
   "execution_count": 4,
   "id": "19910198-5da8-4b5d-badf-6be9e50ab95d",
   "metadata": {},
   "outputs": [],
   "source": [
    "unique_words = list(set(words))\n"
   ]
  },
  {
   "cell_type": "code",
   "execution_count": 5,
   "id": "21eea9c8-164b-407d-921f-b0bdce471a2f",
   "metadata": {},
   "outputs": [
    {
     "data": {
      "text/plain": [
       "52543"
      ]
     },
     "execution_count": 5,
     "metadata": {},
     "output_type": "execute_result"
    }
   ],
   "source": [
    "len(unique_words)"
   ]
  },
  {
   "cell_type": "code",
   "execution_count": 6,
   "id": "fab9c0c7-c565-40d5-94a5-d0911a4a5197",
   "metadata": {},
   "outputs": [],
   "source": [
    "stoi = { ch:i for i,ch in enumerate(unique_words) }"
   ]
  },
  {
   "cell_type": "code",
   "execution_count": 7,
   "id": "f28f3098-64c0-465b-9ed5-e575077bb129",
   "metadata": {
    "scrolled": true
   },
   "outputs": [],
   "source": [
    "word_map_json = stoi"
   ]
  },
  {
   "cell_type": "code",
   "execution_count": 16,
   "id": "4caf8fea-9462-4dfb-8856-e45d78a45903",
   "metadata": {},
   "outputs": [],
   "source": [
    "file_path = \"clean_data/word_map.json\"\n",
    "\n",
    "# Write the data to the JSON file\n",
    "with open(file_path, 'w') as json_file:\n",
    "    json.dump(word_map_json, json_file)"
   ]
  },
  {
   "cell_type": "code",
   "execution_count": 17,
   "id": "68b15dbe-b611-4348-b63d-1b6520bd4e41",
   "metadata": {},
   "outputs": [],
   "source": [
    "encode = lambda s: [stoi[c] for c in s]"
   ]
  },
  {
   "cell_type": "code",
   "execution_count": 18,
   "id": "381f5d0c-41dc-4d20-b5fe-6e653b9335da",
   "metadata": {},
   "outputs": [],
   "source": [
    "single_word = data.split()"
   ]
  },
  {
   "cell_type": "code",
   "execution_count": 19,
   "id": "1104a92c-67e2-408b-af49-50378a6a6210",
   "metadata": {
    "scrolled": true
   },
   "outputs": [
    {
     "data": {
      "text/plain": [
       "list"
      ]
     },
     "execution_count": 19,
     "metadata": {},
     "output_type": "execute_result"
    }
   ],
   "source": [
    "encode_single_word = encode(single_word)\n",
    "type(encode_single_word)"
   ]
  },
  {
   "cell_type": "code",
   "execution_count": 20,
   "id": "09d680ec-c37e-40e4-a90d-f2df5662e292",
   "metadata": {
    "scrolled": true
   },
   "outputs": [],
   "source": [
    "complete_sentence = ' '.join(str(num) for num in encode_single_word)"
   ]
  },
  {
   "cell_type": "code",
   "execution_count": 21,
   "id": "21e77baa-39c3-4e06-8787-b8d0879302f4",
   "metadata": {},
   "outputs": [],
   "source": [
    "data_json = complete_sentence\n",
    "\n",
    "# Convert the dictionary to a JSON string\n",
    "json_string = json.dumps(data_json)\n"
   ]
  },
  {
   "cell_type": "code",
   "execution_count": 22,
   "id": "30a8a833-f69d-4487-9d17-203d8330ab36",
   "metadata": {},
   "outputs": [],
   "source": [
    "file_path = \"clean_data/encoded_graph.json\"\n",
    "\n",
    "# Write the data to the JSON file\n",
    "with open(file_path, 'w') as json_file:\n",
    "    json.dump(data_json, json_file)\n"
   ]
  },
  {
   "cell_type": "code",
   "execution_count": null,
   "id": "745367a7-bb1b-4ccf-b9be-21883bc90f36",
   "metadata": {},
   "outputs": [],
   "source": []
  }
 ],
 "metadata": {
  "kernelspec": {
   "display_name": "Python 3 (ipykernel)",
   "language": "python",
   "name": "python3"
  },
  "language_info": {
   "codemirror_mode": {
    "name": "ipython",
    "version": 3
   },
   "file_extension": ".py",
   "mimetype": "text/x-python",
   "name": "python",
   "nbconvert_exporter": "python",
   "pygments_lexer": "ipython3",
   "version": "3.11.5"
  }
 },
 "nbformat": 4,
 "nbformat_minor": 5
}
