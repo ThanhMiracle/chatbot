{
 "cells": [
  {
   "cell_type": "code",
   "execution_count": 1,
   "id": "26147d87-0484-4acb-af0e-68a0502c1827",
   "metadata": {},
   "outputs": [
    {
     "name": "stderr",
     "output_type": "stream",
     "text": [
      "C:\\Users\\haill\\AppData\\Local\\Temp\\ipykernel_19396\\2035458946.py:1: DeprecationWarning: \n",
      "Pyarrow will become a required dependency of pandas in the next major release of pandas (pandas 3.0),\n",
      "(to allow more performant data types, such as the Arrow string type, and better interoperability with other libraries)\n",
      "but was not found to be installed on your system.\n",
      "If this would cause problems for you,\n",
      "please provide us feedback at https://github.com/pandas-dev/pandas/issues/54466\n",
      "        \n",
      "  import pandas as pd\n"
     ]
    }
   ],
   "source": [
    "import pandas as pd\n"
   ]
  },
  {
   "cell_type": "code",
   "execution_count": 2,
   "id": "3fb03ce6-eeec-4911-90fd-a7e339fe11c7",
   "metadata": {},
   "outputs": [],
   "source": [
    "csv_data = pd.read_csv(\"dialogs_expanded.csv\")"
   ]
  },
  {
   "cell_type": "code",
   "execution_count": 9,
   "id": "1f3718c5-38c6-482e-931e-34c4de825f4b",
   "metadata": {},
   "outputs": [
    {
     "data": {
      "text/plain": [
       "'cleaned_data.csv'"
      ]
     },
     "execution_count": 9,
     "metadata": {},
     "output_type": "execute_result"
    }
   ],
   "source": [
    "# Function to remove non-meaningful punctuation and add space before meaningful punctuation\n",
    "def clean_text(text):\n",
    "    # Define punctuation that is considered meaningful\n",
    "    meaningful_punctuation = set(\"?!,\")  # Keeping question marks and exclamation points\n",
    "    all_punctuations = set(string.punctuation)\n",
    "    punctuations_to_remove = all_punctuations - meaningful_punctuation\n",
    "    \n",
    "    # Remove punctuation that is not meaningful and add space before remaining punctuation\n",
    "    new_text = \"\"\n",
    "    for char in text:\n",
    "        if char in punctuations_to_remove:\n",
    "            continue\n",
    "        if char in meaningful_punctuation and (not new_text.endswith(\" \")):\n",
    "            new_text += \" \" + char\n",
    "        else:\n",
    "            new_text += char\n",
    "    \n",
    "    return new_text\n",
    "\n",
    "# Applying the function to clean 'question' and 'answer' columns\n",
    "csv_data['question'] = csv_data['question'].apply(clean_text)\n",
    "csv_data['answer'] = csv_data['answer'].apply(clean_text)\n",
    "\n",
    "# Selecting columns to keep in the cleaned CSV\n",
    "columns_to_keep = ['Unnamed: 0', 'question', 'answer', 'question_as_int', 'answer_as_int', 'question_len', 'answer_len']\n",
    "csv_data_cleaned = csv_data[columns_to_keep]\n",
    "\n",
    "# Save the cleaned data to a new CSV file\n",
    "csv_file_path_final_cleaned = 'cleaned_data.csv'\n",
    "csv_data_cleaned.to_csv(csv_file_path_final_cleaned, index=False)\n",
    "\n",
    "csv_file_path_final_cleaned\n"
   ]
  },
  {
   "cell_type": "code",
   "execution_count": null,
   "id": "72c237cb-5bc0-427a-8ae5-e125c2035709",
   "metadata": {},
   "outputs": [],
   "source": []
  }
 ],
 "metadata": {
  "kernelspec": {
   "display_name": "Python 3 (ipykernel)",
   "language": "python",
   "name": "python3"
  },
  "language_info": {
   "codemirror_mode": {
    "name": "ipython",
    "version": 3
   },
   "file_extension": ".py",
   "mimetype": "text/x-python",
   "name": "python",
   "nbconvert_exporter": "python",
   "pygments_lexer": "ipython3",
   "version": "3.11.5"
  }
 },
 "nbformat": 4,
 "nbformat_minor": 5
}
